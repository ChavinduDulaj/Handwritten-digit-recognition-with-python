{
 "cells": [
  {
   "cell_type": "markdown",
   "id": "e4c940b3",
   "metadata": {},
   "source": [
    "# Screen Capture"
   ]
  },
  {
   "cell_type": "code",
   "execution_count": 6,
   "id": "16356ee0",
   "metadata": {},
   "outputs": [
    {
     "name": "stdout",
     "output_type": "stream",
     "text": [
      "Requirement already satisfied: pyscreenshot in c:\\users\\asus\\anaconda3\\lib\\site-packages (3.1)\n",
      "Requirement already satisfied: EasyProcess in c:\\users\\asus\\anaconda3\\lib\\site-packages (from pyscreenshot) (1.1)\n",
      "Requirement already satisfied: entrypoint2 in c:\\users\\asus\\anaconda3\\lib\\site-packages (from pyscreenshot) (1.1)\n",
      "Requirement already satisfied: mss in c:\\users\\asus\\anaconda3\\lib\\site-packages (from pyscreenshot) (9.0.1)\n"
     ]
    }
   ],
   "source": [
    "!pip install pyscreenshot\n",
    "\n"
   ]
  },
  {
   "cell_type": "code",
   "execution_count": 7,
   "id": "bdcebcb1",
   "metadata": {},
   "outputs": [],
   "source": [
    "import pyscreenshot as ImageGrab"
   ]
  },
  {
   "cell_type": "code",
   "execution_count": 8,
   "id": "e8ff8f64",
   "metadata": {},
   "outputs": [],
   "source": [
    "import time"
   ]
  },
  {
   "cell_type": "code",
   "execution_count": 27,
   "id": "fcaefcb7",
   "metadata": {},
   "outputs": [
    {
     "name": "stdout",
     "output_type": "stream",
     "text": [
      "Saved>>>>>>>> 0\n",
      "clear screen and redraw again\n",
      "Saved>>>>>>>> 1\n",
      "clear screen and redraw again\n",
      "Saved>>>>>>>> 2\n",
      "clear screen and redraw again\n",
      "Saved>>>>>>>> 3\n",
      "clear screen and redraw again\n",
      "Saved>>>>>>>> 4\n",
      "clear screen and redraw again\n"
     ]
    }
   ],
   "source": [
    "import pyscreenshot as ImageGrab\n",
    "import time\n",
    "\n",
    "images_folder = \"captured_images/0/\"\n",
    "\n",
    "for i in range(0, 5):\n",
    "    time.sleep(8)\n",
    "    \n",
    "    # Adjust the bbox coordinates to capture a bit more below\n",
    "    im = ImageGrab.grab(bbox=(100, 350, 800, 850))  # Adjust these values as needed\n",
    "    \n",
    "    print(\"Saved>>>>>>>>\", i)\n",
    "    im.save(images_folder + str(i) + '.png')\n",
    "    print(\"clear screen and redraw again\")\n"
   ]
  },
  {
   "cell_type": "code",
   "execution_count": 28,
   "id": "264c023f",
   "metadata": {},
   "outputs": [
    {
     "name": "stdout",
     "output_type": "stream",
     "text": [
      "Saved>>>>>>>> 0\n",
      "clear screen and redraw again\n",
      "Saved>>>>>>>> 1\n",
      "clear screen and redraw again\n",
      "Saved>>>>>>>> 2\n",
      "clear screen and redraw again\n",
      "Saved>>>>>>>> 3\n",
      "clear screen and redraw again\n",
      "Saved>>>>>>>> 4\n",
      "clear screen and redraw again\n"
     ]
    }
   ],
   "source": [
    "import pyscreenshot as ImageGrab\n",
    "import time\n",
    "\n",
    "images_folder = \"captured_images/1/\"\n",
    "\n",
    "for i in range(0, 5):\n",
    "    time.sleep(12)\n",
    "    \n",
    "    # Adjust the bbox coordinates to capture a bit more below\n",
    "    im = ImageGrab.grab(bbox=(100, 350, 800, 850))  # Adjust these values as needed\n",
    "    \n",
    "    print(\"Saved>>>>>>>>\", i)\n",
    "    im.save(images_folder + str(i) + '.png')\n",
    "    print(\"clear screen and redraw again\")\n"
   ]
  },
  {
   "cell_type": "code",
   "execution_count": 29,
   "id": "85182ab2",
   "metadata": {},
   "outputs": [
    {
     "name": "stdout",
     "output_type": "stream",
     "text": [
      "Saved>>>>>>>> 0\n",
      "clear screen and redraw again\n",
      "Saved>>>>>>>> 1\n",
      "clear screen and redraw again\n",
      "Saved>>>>>>>> 2\n",
      "clear screen and redraw again\n",
      "Saved>>>>>>>> 3\n",
      "clear screen and redraw again\n",
      "Saved>>>>>>>> 4\n",
      "clear screen and redraw again\n"
     ]
    }
   ],
   "source": [
    "import pyscreenshot as ImageGrab\n",
    "import time\n",
    "\n",
    "images_folder = \"captured_images/2/\"\n",
    "\n",
    "for i in range(0, 5):\n",
    "    time.sleep(12)\n",
    "    \n",
    "    # Adjust the bbox coordinates to capture a bit more below\n",
    "    im = ImageGrab.grab(bbox=(100, 350, 800, 850))  # Adjust these values as needed\n",
    "    \n",
    "    print(\"Saved>>>>>>>>\", i)\n",
    "    im.save(images_folder + str(i) + '.png')\n",
    "    print(\"clear screen and redraw again\")\n"
   ]
  },
  {
   "cell_type": "code",
   "execution_count": 30,
   "id": "1ba45fb7",
   "metadata": {},
   "outputs": [
    {
     "name": "stdout",
     "output_type": "stream",
     "text": [
      "Saved>>>>>>>> 0\n",
      "clear screen and redraw again\n",
      "Saved>>>>>>>> 1\n",
      "clear screen and redraw again\n",
      "Saved>>>>>>>> 2\n",
      "clear screen and redraw again\n",
      "Saved>>>>>>>> 3\n",
      "clear screen and redraw again\n",
      "Saved>>>>>>>> 4\n",
      "clear screen and redraw again\n"
     ]
    }
   ],
   "source": [
    "import pyscreenshot as ImageGrab\n",
    "import time\n",
    "\n",
    "images_folder = \"captured_images/3/\"\n",
    "\n",
    "for i in range(0, 5):\n",
    "    time.sleep(12)\n",
    "    \n",
    "    # Adjust the bbox coordinates to capture a bit more below\n",
    "    im = ImageGrab.grab(bbox=(100, 350, 800, 850))  # Adjust these values as needed\n",
    "    \n",
    "    print(\"Saved>>>>>>>>\", i)\n",
    "    im.save(images_folder + str(i) + '.png')\n",
    "    print(\"clear screen and redraw again\")\n"
   ]
  },
  {
   "cell_type": "code",
   "execution_count": 31,
   "id": "858619f6",
   "metadata": {},
   "outputs": [
    {
     "name": "stdout",
     "output_type": "stream",
     "text": [
      "Saved>>>>>>>> 0\n",
      "clear screen and redraw again\n",
      "Saved>>>>>>>> 1\n",
      "clear screen and redraw again\n",
      "Saved>>>>>>>> 2\n",
      "clear screen and redraw again\n",
      "Saved>>>>>>>> 3\n",
      "clear screen and redraw again\n",
      "Saved>>>>>>>> 4\n",
      "clear screen and redraw again\n"
     ]
    }
   ],
   "source": [
    "import pyscreenshot as ImageGrab\n",
    "import time\n",
    "\n",
    "images_folder = \"captured_images/4/\"\n",
    "\n",
    "for i in range(0, 5):\n",
    "    time.sleep(12)\n",
    "    \n",
    "    # Adjust the bbox coordinates to capture a bit more below\n",
    "    im = ImageGrab.grab(bbox=(100, 350, 800, 850))  # Adjust these values as needed\n",
    "    \n",
    "    print(\"Saved>>>>>>>>\", i)\n",
    "    im.save(images_folder + str(i) + '.png')\n",
    "    print(\"clear screen and redraw again\")\n"
   ]
  },
  {
   "cell_type": "code",
   "execution_count": 32,
   "id": "1a84d44d",
   "metadata": {},
   "outputs": [
    {
     "name": "stdout",
     "output_type": "stream",
     "text": [
      "Saved>>>>>>>> 0\n",
      "clear screen and redraw again\n",
      "Saved>>>>>>>> 1\n",
      "clear screen and redraw again\n",
      "Saved>>>>>>>> 2\n",
      "clear screen and redraw again\n",
      "Saved>>>>>>>> 3\n",
      "clear screen and redraw again\n",
      "Saved>>>>>>>> 4\n",
      "clear screen and redraw again\n"
     ]
    }
   ],
   "source": [
    "import pyscreenshot as ImageGrab\n",
    "import time\n",
    "\n",
    "images_folder = \"captured_images/5/\"\n",
    "\n",
    "for i in range(0, 5):\n",
    "    time.sleep(12)\n",
    "    \n",
    "    # Adjust the bbox coordinates to capture a bit more below\n",
    "    im = ImageGrab.grab(bbox=(100, 350, 800, 850))  # Adjust these values as needed\n",
    "    \n",
    "    print(\"Saved>>>>>>>>\", i)\n",
    "    im.save(images_folder + str(i) + '.png')\n",
    "    print(\"clear screen and redraw again\")\n"
   ]
  },
  {
   "cell_type": "code",
   "execution_count": 33,
   "id": "23bfae64",
   "metadata": {},
   "outputs": [
    {
     "name": "stdout",
     "output_type": "stream",
     "text": [
      "Saved>>>>>>>> 0\n",
      "clear screen and redraw again\n",
      "Saved>>>>>>>> 1\n",
      "clear screen and redraw again\n",
      "Saved>>>>>>>> 2\n",
      "clear screen and redraw again\n",
      "Saved>>>>>>>> 3\n",
      "clear screen and redraw again\n",
      "Saved>>>>>>>> 4\n",
      "clear screen and redraw again\n"
     ]
    }
   ],
   "source": [
    "import pyscreenshot as ImageGrab\n",
    "import time\n",
    "\n",
    "images_folder = \"captured_images/6/\"\n",
    "\n",
    "for i in range(0, 5):\n",
    "    time.sleep(12)\n",
    "    \n",
    "    # Adjust the bbox coordinates to capture a bit more below\n",
    "    im = ImageGrab.grab(bbox=(100, 350, 800, 850))  # Adjust these values as needed\n",
    "    \n",
    "    print(\"Saved>>>>>>>>\", i)\n",
    "    im.save(images_folder + str(i) + '.png')\n",
    "    print(\"clear screen and redraw again\")\n"
   ]
  },
  {
   "cell_type": "code",
   "execution_count": 34,
   "id": "df7ddf2b",
   "metadata": {},
   "outputs": [
    {
     "name": "stdout",
     "output_type": "stream",
     "text": [
      "Saved>>>>>>>> 0\n",
      "clear screen and redraw again\n",
      "Saved>>>>>>>> 1\n",
      "clear screen and redraw again\n",
      "Saved>>>>>>>> 2\n",
      "clear screen and redraw again\n",
      "Saved>>>>>>>> 3\n",
      "clear screen and redraw again\n",
      "Saved>>>>>>>> 4\n",
      "clear screen and redraw again\n"
     ]
    }
   ],
   "source": [
    "import pyscreenshot as ImageGrab\n",
    "import time\n",
    "\n",
    "images_folder = \"captured_images/7/\"\n",
    "\n",
    "for i in range(0, 5):\n",
    "    time.sleep(12)\n",
    "    \n",
    "    # Adjust the bbox coordinates to capture a bit more below\n",
    "    im = ImageGrab.grab(bbox=(100, 350, 800, 850))  # Adjust these values as needed\n",
    "    \n",
    "    print(\"Saved>>>>>>>>\", i)\n",
    "    im.save(images_folder + str(i) + '.png')\n",
    "    print(\"clear screen and redraw again\")\n"
   ]
  },
  {
   "cell_type": "code",
   "execution_count": 35,
   "id": "2d2c8b8c",
   "metadata": {},
   "outputs": [
    {
     "name": "stdout",
     "output_type": "stream",
     "text": [
      "Saved>>>>>>>> 0\n",
      "clear screen and redraw again\n",
      "Saved>>>>>>>> 1\n",
      "clear screen and redraw again\n",
      "Saved>>>>>>>> 2\n",
      "clear screen and redraw again\n",
      "Saved>>>>>>>> 3\n",
      "clear screen and redraw again\n",
      "Saved>>>>>>>> 4\n",
      "clear screen and redraw again\n"
     ]
    }
   ],
   "source": [
    "import pyscreenshot as ImageGrab\n",
    "import time\n",
    "\n",
    "images_folder = \"captured_images/8/\"\n",
    "\n",
    "for i in range(0, 5):\n",
    "    time.sleep(12)\n",
    "    \n",
    "    # Adjust the bbox coordinates to capture a bit more below\n",
    "    im = ImageGrab.grab(bbox=(100, 350, 800, 850))  # Adjust these values as needed\n",
    "    \n",
    "    print(\"Saved>>>>>>>>\", i)\n",
    "    im.save(images_folder + str(i) + '.png')\n",
    "    print(\"clear screen and redraw again\")\n"
   ]
  },
  {
   "cell_type": "code",
   "execution_count": 36,
   "id": "230a3706",
   "metadata": {},
   "outputs": [
    {
     "name": "stdout",
     "output_type": "stream",
     "text": [
      "Saved>>>>>>>> 0\n",
      "clear screen and redraw again\n",
      "Saved>>>>>>>> 1\n",
      "clear screen and redraw again\n",
      "Saved>>>>>>>> 2\n",
      "clear screen and redraw again\n",
      "Saved>>>>>>>> 3\n",
      "clear screen and redraw again\n",
      "Saved>>>>>>>> 4\n",
      "clear screen and redraw again\n"
     ]
    }
   ],
   "source": [
    "import pyscreenshot as ImageGrab\n",
    "import time\n",
    "\n",
    "images_folder = \"captured_images/9/\"\n",
    "\n",
    "for i in range(0, 5):\n",
    "    time.sleep(12)\n",
    "    \n",
    "    # Adjust the bbox coordinates to capture a bit more below\n",
    "    im = ImageGrab.grab(bbox=(100, 350, 800, 850))  # Adjust these values as needed\n",
    "    \n",
    "    print(\"Saved>>>>>>>>\", i)\n",
    "    im.save(images_folder + str(i) + '.png')\n",
    "    print(\"clear screen and redraw again\")\n"
   ]
  },
  {
   "cell_type": "code",
   "execution_count": null,
   "id": "f2cba5d7",
   "metadata": {},
   "outputs": [],
   "source": []
  },
  {
   "cell_type": "code",
   "execution_count": null,
   "id": "ae4713b9",
   "metadata": {},
   "outputs": [],
   "source": []
  }
 ],
 "metadata": {
  "kernelspec": {
   "display_name": "Python 3 (ipykernel)",
   "language": "python",
   "name": "python3"
  },
  "language_info": {
   "codemirror_mode": {
    "name": "ipython",
    "version": 3
   },
   "file_extension": ".py",
   "mimetype": "text/x-python",
   "name": "python",
   "nbconvert_exporter": "python",
   "pygments_lexer": "ipython3",
   "version": "3.11.4"
  }
 },
 "nbformat": 4,
 "nbformat_minor": 5
}
